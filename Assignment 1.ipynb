{
 "cells": [
  {
   "cell_type": "code",
   "execution_count": null,
   "id": "f17f7816-96e6-40ca-b218-833c2182f0bb",
   "metadata": {},
   "outputs": [],
   "source": [
    "# Q1. Create one variable containing following type of data:"
   ]
  },
  {
   "cell_type": "code",
   "execution_count": null,
   "id": "2335a20d-75a7-4c7b-8eeb-a7e488779e85",
   "metadata": {},
   "outputs": [
    {
     "data": {
      "text/plain": [
       "'HARSH ANAND'"
      ]
     },
     "execution_count": 5,
     "metadata": {},
     "output_type": "execute_result"
    }
   ],
   "source": [
    "# (i) string\n",
    "\n",
    "my_str = \"HARSH ANAND\"\n",
    "\n",
    "my_str"
   ]
  },
  {
   "cell_type": "code",
   "execution_count": null,
   "id": "fabf8257-674f-45fb-bee0-6215ca84b195",
   "metadata": {},
   "outputs": [
    {
     "data": {
      "text/plain": [
       "[2, 3, 4, 5, 'harsh', 34.34]"
      ]
     },
     "execution_count": 6,
     "metadata": {},
     "output_type": "execute_result"
    }
   ],
   "source": [
    "# (ii) list\n",
    "\n",
    "my_list = [2,3,4,5,\"harsh\",34.34]\n",
    "\n",
    "my_list"
   ]
  },
  {
   "cell_type": "code",
   "execution_count": null,
   "id": "0c014e5d-307d-471d-9b7d-f095f7ae6895",
   "metadata": {},
   "outputs": [
    {
     "data": {
      "text/plain": [
       "45.3366"
      ]
     },
     "execution_count": 7,
     "metadata": {},
     "output_type": "execute_result"
    }
   ],
   "source": [
    "# (iii) float\n",
    "\n",
    "my_float = 45.3366\n",
    "\n",
    "my_float"
   ]
  },
  {
   "cell_type": "code",
   "execution_count": null,
   "id": "f7df649b-cf8f-46c2-aa0d-3250500ec064",
   "metadata": {},
   "outputs": [
    {
     "data": {
      "text/plain": [
       "(10, 30, 50)"
      ]
     },
     "execution_count": 8,
     "metadata": {},
     "output_type": "execute_result"
    }
   ],
   "source": [
    "# (iv) tuple\n",
    "\n",
    "my_tuple = (10,30,50)\n",
    "\n",
    "my_tuple"
   ]
  },
  {
   "cell_type": "code",
   "execution_count": null,
   "id": "59b46e65-a10d-4a44-8308-85861f5a8465",
   "metadata": {},
   "outputs": [],
   "source": [
    "# Q2. Given are some following variables containing data:"
   ]
  },
  {
   "cell_type": "code",
   "execution_count": null,
   "id": "6a3f1b2e-d2ec-4108-9486-7f285b8c8993",
   "metadata": {},
   "outputs": [],
   "source": [
    "# (i) ans:- \n",
    "\n",
    "d = ''"
   ]
  },
  {
   "cell_type": "code",
   "execution_count": null,
   "id": "f11f0bac-f5d5-4667-b2d1-d16f1df6f886",
   "metadata": {},
   "outputs": [
    {
     "data": {
      "text/plain": [
       "str"
      ]
     },
     "execution_count": 11,
     "metadata": {},
     "output_type": "execute_result"
    }
   ],
   "source": [
    "type(d)"
   ]
  },
  {
   "cell_type": "code",
   "execution_count": null,
   "id": "28c7838f-1caf-4a64-a073-fbce423071f0",
   "metadata": {},
   "outputs": [],
   "source": [
    "# (ii) ans:- \n",
    "\n",
    "e = '[DS, ML, Python]'"
   ]
  },
  {
   "cell_type": "code",
   "execution_count": null,
   "id": "4948c262-3746-4edf-a062-cb3672d21a9a",
   "metadata": {},
   "outputs": [
    {
     "data": {
      "text/plain": [
       "str"
      ]
     },
     "execution_count": 13,
     "metadata": {},
     "output_type": "execute_result"
    }
   ],
   "source": [
    "type(e)"
   ]
  },
  {
   "cell_type": "code",
   "execution_count": null,
   "id": "a30ac30a-1c9a-427c-88f2-89adb709f930",
   "metadata": {},
   "outputs": [],
   "source": [
    "# (iii) ans :-\n",
    "\n",
    "f = ['DS' , 'ML' , 'Python']"
   ]
  },
  {
   "cell_type": "code",
   "execution_count": null,
   "id": "51556016-e7e7-48c2-9dfa-15b765d977d7",
   "metadata": {},
   "outputs": [
    {
     "data": {
      "text/plain": [
       "list"
      ]
     },
     "execution_count": 15,
     "metadata": {},
     "output_type": "execute_result"
    }
   ],
   "source": [
    "type(f)"
   ]
  },
  {
   "cell_type": "code",
   "execution_count": null,
   "id": "169db2a3-b635-4111-a8b7-f8f5f3293538",
   "metadata": {},
   "outputs": [],
   "source": [
    "#(iv) ans:- \n",
    "\n",
    "g = 1."
   ]
  },
  {
   "cell_type": "code",
   "execution_count": null,
   "id": "559aa1cf-e41f-419d-bcbd-e7dab7e7fcc9",
   "metadata": {},
   "outputs": [
    {
     "data": {
      "text/plain": [
       "float"
      ]
     },
     "execution_count": 17,
     "metadata": {},
     "output_type": "execute_result"
    }
   ],
   "source": [
    "type(g)"
   ]
  },
  {
   "cell_type": "code",
   "execution_count": null,
   "id": "757baffa-45e2-4967-97dd-fabfd030776b",
   "metadata": {},
   "outputs": [],
   "source": [
    "# Q3. Explain the use of the following operators using an example:"
   ]
  },
  {
   "cell_type": "code",
   "execution_count": 3,
   "id": "d3d36ca6-d3f2-4748-87af-08ec4f3f46aa",
   "metadata": {},
   "outputs": [
    {
     "name": "stdout",
     "output_type": "stream",
     "text": [
      "6.666666666666667\n"
     ]
    }
   ],
   "source": [
    "#  (i) /\n",
    "# The division operator (/) is used to perform division between two numbers.\n",
    "# Example :-\n",
    "\n",
    "a = 20/3\n",
    "print(a)"
   ]
  },
  {
   "cell_type": "code",
   "execution_count": 1,
   "id": "a2fc75ed-0c39-497f-bf35-16489eb57b64",
   "metadata": {},
   "outputs": [
    {
     "name": "stdout",
     "output_type": "stream",
     "text": [
      "2\n"
     ]
    }
   ],
   "source": [
    "# (ii) % :\n",
    "# The modulus operator (%) returns the remainder of the division between two numbers.\n",
    "#Example :- \n",
    "\n",
    "b = 20%3\n",
    "print(b)"
   ]
  },
  {
   "cell_type": "code",
   "execution_count": 2,
   "id": "ef6d2747-bfcb-4f47-a1e3-5fbb9e5d3d50",
   "metadata": {},
   "outputs": [
    {
     "name": "stdout",
     "output_type": "stream",
     "text": [
      "6\n"
     ]
    }
   ],
   "source": [
    "# (iii) // :\n",
    "# The floor division operator (//) performs division between two numbers and rounds down the result to the nearest whole number.\n",
    "# Example :- \n",
    "\n",
    "c = 20//3\n",
    "print(c)"
   ]
  },
  {
   "cell_type": "code",
   "execution_count": null,
   "id": "2603f38f-21a7-47f5-80cd-93437eb05802",
   "metadata": {},
   "outputs": [
    {
     "name": "stdout",
     "output_type": "stream",
     "text": [
      "16\n"
     ]
    }
   ],
   "source": [
    "# (iv) ** :\n",
    "# The exponentiation operator (**) raises the left operand to the power of the right operand\n",
    "# Example : - \n",
    "\n",
    "d = 2 ** 4\n",
    "print(d)"
   ]
  },
  {
   "cell_type": "code",
   "execution_count": null,
   "id": "a081fa84-45b3-4eb1-a63b-bbd95b782fdc",
   "metadata": {},
   "outputs": [],
   "source": [
    "# Q4. Create a list of length 10 of your choice containing multiple types of data. Using for loop print the element and its data type."
   ]
  },
  {
   "cell_type": "code",
   "execution_count": null,
   "id": "7d8ed952-1e67-48c5-83eb-1be4694110fe",
   "metadata": {},
   "outputs": [
    {
     "name": "stdout",
     "output_type": "stream",
     "text": [
      "<class 'int'>\n",
      "1\n",
      "<class 'int'>\n",
      "2\n",
      "<class 'int'>\n",
      "3\n",
      "<class 'int'>\n",
      "4\n",
      "<class 'bool'>\n",
      "True\n",
      "<class 'int'>\n",
      "6\n",
      "<class 'str'>\n",
      "harsh\n",
      "<class 'float'>\n",
      "34.45\n",
      "<class 'str'>\n",
      "pwskills\n",
      "<class 'int'>\n",
      "10\n"
     ]
    }
   ],
   "source": [
    "# ans :- \n",
    "o = [1,2,3,4,True,6,\"harsh\",34.45,\"pwskills\",10]\n",
    "\n",
    "for i in o :\n",
    "    print(type(i))\n",
    "    print(i)\n",
    "\n"
   ]
  },
  {
   "cell_type": "code",
   "execution_count": null,
   "id": "4e61ba4c-aede-47f5-8f06-7c8f09f08cfe",
   "metadata": {},
   "outputs": [],
   "source": [
    "# Q5. Using a while loop, verify if the number A is purely divisible by number B and if so then how many times it can be divisible."
   ]
  },
  {
   "cell_type": "code",
   "execution_count": null,
   "id": "99eb76c3-49d7-4891-abd2-b9304f987f3b",
   "metadata": {},
   "outputs": [
    {
     "name": "stdout",
     "output_type": "stream",
     "text": [
      "550 is purely divisible by 11. It can be divided 50 times.\n"
     ]
    }
   ],
   "source": [
    "# ans :- \n",
    "def find_divisions(A, B):\n",
    "    count = 0\n",
    "    while A >= B:\n",
    "        A -= B\n",
    "        count += 1\n",
    "    return count\n",
    "A = 550\n",
    "B = 11\n",
    "\n",
    "divisions = find_divisions(A, B)\n",
    "\n",
    "if divisions > 0:\n",
    "    print(f\"{A} is purely divisible by {B}. It can be divided {divisions} times.\")\n",
    "else:\n",
    "    print(f\"{A} is not divisible by {B}.\")"
   ]
  },
  {
   "cell_type": "code",
   "execution_count": null,
   "id": "7c246d53-74b3-43b5-83be-4e891ec835d5",
   "metadata": {},
   "outputs": [],
   "source": [
    "# Q6. Create a list containing 25 int type data. Using for loop and if-else condition print if the element is divisible by 3 or not."
   ]
  },
  {
   "cell_type": "code",
   "execution_count": null,
   "id": "30a0c932-3a72-4c7b-a632-45c760f23a27",
   "metadata": {},
   "outputs": [
    {
     "name": "stdout",
     "output_type": "stream",
     "text": [
      "21 is divisible by 3.\n",
      "5 is not divisible by 3.\n",
      "12 is divisible by 3.\n",
      "15 is divisible by 3.\n",
      "33 is divisible by 3.\n",
      "14 is not divisible by 3.\n",
      "27 is divisible by 3.\n",
      "48 is divisible by 3.\n",
      "24 is divisible by 3.\n",
      "6 is divisible by 3.\n",
      "54 is divisible by 3.\n",
      "33 is divisible by 3.\n",
      "3 is divisible by 3.\n",
      "36 is divisible by 3.\n",
      "18 is divisible by 3.\n",
      "64 is not divisible by 3.\n",
      "66 is divisible by 3.\n",
      "43 is not divisible by 3.\n",
      "19 is not divisible by 3.\n",
      "22 is not divisible by 3.\n",
      "17 is not divisible by 3.\n",
      "41 is not divisible by 3.\n",
      "73 is not divisible by 3.\n",
      "28 is not divisible by 3.\n",
      "86 is not divisible by 3.\n"
     ]
    }
   ],
   "source": [
    "# ans :- \n",
    "my_list = [21, 5, 12, 15, 33, 14, 27, 48, 24, 6, 54, 33, 3, 36, 18, 64, 66, 43, 19, 22, 17, 41, 73, 28, 86]\n",
    "\n",
    "# Using for loop and if-else condition to check if each element is divisible by 3\n",
    "for i in my_list:\n",
    "    if i % 3 == 0:\n",
    "        print(f\"{i} is divisible by 3.\")\n",
    "    else:\n",
    "        print(f\"{i} is not divisible by 3.\")"
   ]
  },
  {
   "cell_type": "code",
   "execution_count": null,
   "id": "63df1588-3855-442f-a761-f6b199c2cafb",
   "metadata": {},
   "outputs": [],
   "source": [
    "# Q7. What do you understand about mutable and immutable data types? Give examples for both showing this property."
   ]
  },
  {
   "cell_type": "code",
   "execution_count": null,
   "id": "b9d3846d-4ff5-453a-b3d9-d9cfe879cf4a",
   "metadata": {},
   "outputs": [
    {
     "name": "stdout",
     "output_type": "stream",
     "text": [
      "[2, 10, 4, 5, 6, 'anand', (3+9j), True, 34.56]\n"
     ]
    }
   ],
   "source": [
    "# ans :- \n",
    "\n",
    "# Mutable :- Mutable data types are those whose state can be modified after they are created. \n",
    "# EXAMPLE :-  List , set , dict\n",
    "\n",
    "d = [2,3,4,5,6,\"harsh\",3+9j,True,34.56]\n",
    "\n",
    "d[1] = 10\n",
    "d[5] = \"anand\"\n",
    "\n",
    "print(d)\n",
    "\n",
    "\n"
   ]
  },
  {
   "cell_type": "code",
   "execution_count": null,
   "id": "ac41cda7-6367-4ee8-9779-39715d5620a3",
   "metadata": {},
   "outputs": [],
   "source": [
    "# immutable :- Immutable data types are those whose state cannot be modified after they are created. \n",
    "# EXAMPLE :-  String,Tuple,int"
   ]
  }
 ],
 "metadata": {
  "kernelspec": {
   "display_name": "Python 3 (ipykernel)",
   "language": "python",
   "name": "python3"
  },
  "language_info": {
   "codemirror_mode": {
    "name": "ipython",
    "version": 3
   },
   "file_extension": ".py",
   "mimetype": "text/x-python",
   "name": "python",
   "nbconvert_exporter": "python",
   "pygments_lexer": "ipython3",
   "version": "3.10.8"
  }
 },
 "nbformat": 4,
 "nbformat_minor": 5
}
